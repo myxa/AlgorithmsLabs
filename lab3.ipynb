{
  "cells":[
    {
      "cell_type":"code",
      "source":[
        "import numpy as np\n",
        "import matplotlib.pyplot as plt\n",
        "import random\n",
        "from scipy import optimize\n",
        "from scipy.optimize import minimize\n",
        "%matplotlib inline\n",
        "random.seed(1917)\n",
        "np.random.seed(1917)"
      ],
      "execution_count":1,
      "outputs":[
        
      ],
      "metadata":{
        
      }
    },
    {
      "cell_type":"code",
      "source":[
        "alpha = random.uniform(0, 1)\n",
        "beta = random.uniform(0, 1)\n",
        "\n",
        "x = np.array([i\/100 for i in range(100)]).squeeze()\n",
        "y = np.array([alpha * x[i] + beta + np.random.standard_normal(1) for i in range(100)]).squeeze()"
      ],
      "execution_count":2,
      "outputs":[
        
      ],
      "metadata":{
        
      }
    },
    {
      "cell_type":"code",
      "source":[
        "plt.plot(x)\n",
        "plt.plot(y, '.')\n",
        "plt.title('Data')"
      ],
      "execution_count":3,
      "outputs":[
        {
          "data":{
            "text\/plain":[
              "Text(0.5, 1.0, 'Data')"
            ],
            "image\/png":"[encoded data removed]"
          },
          "metadata":{
            "image\/png":{
              
            }
          },
          "output_type":"display_data"
        }
      ],
      "metadata":{
        
      }
    },
    {
      "cell_type":"code",
      "source":[
        "def loss_linear(a, x_=x, y_=y):\n",
        "    a, b = a\n",
        "    return sum([((a * x_[i] + b) - y_[i])**2 for i in range(len(x_))])\n",
        "\n",
        "def loss_rational(a, x_=x, y_=y):\n",
        "    a, b = a\n",
        "    return sum([(a \/ (1 + b * x_[i]) - y_[i])**2 for i in range(len(x_))])"
      ],
      "execution_count":4,
      "outputs":[
        
      ],
      "metadata":{
        
      }
    },
    {
      "cell_type":"markdown",
      "source":[
        "# Gradient descent"
      ],
      "attachments":{
        
      },
      "metadata":{
        
      }
    },
    {
      "cell_type":"code",
      "source":[
        "a = 2\n",
        "b = 2\n",
        "ab_0 = [a, b]\n",
        "ab_i= [[1, 1], ab_0]\n",
        "beta_i = []\n",
        "grad_i = [[0.1, 0.1]]\n",
        "\n",
        "i=1\n",
        "while abs(ab_i[i][0] - ab_i[i-1][0]) > 0.001 and abs(ab_i[i][1] - ab_i[i-1][1]) > 0.001:\n",
        "    grad = [(np.sum(2 * x * (ab_i[i][0] * x + ab_i[i][1] - y)))\/len(x), (np.sum(2 * (ab_i[i][0] * x + ab_i[i][1] - y)))\/len(x)]\n",
        "    grad_i.append(grad)\n",
        "    beta = abs((np.array(ab_i[i])-np.array(ab_i[i-1]))*(np.array(grad_i[i])-np.array(grad_i[i-1])))\/(abs(np.array(grad_i[i])-np.array(grad_i[i-1])))**2\n",
        "    beta_i.append(beta.tolist())\n",
        "    x_next = np.array(ab_i[i]) - beta_i[i-1] * np.array(grad_i[i])\n",
        "    ab_i.append(x_next.tolist())\n",
        "    i += 1\n",
        "gd_lin = ab_i[i]\n",
        "print(gd_lin, i)"
      ],
      "execution_count":75,
      "outputs":[
        {
          "name":"stdout",
          "text":[
            "[0.4987240352682707, 0.7350448070366243] 8\n"
          ],
          "output_type":"stream"
        }
      ],
      "metadata":{
        
      }
    },
    {
      "cell_type":"code",
      "source":[
        "loss_linear(gd_lin)"
      ],
      "execution_count":76,
      "outputs":[
        {
          "data":{
            "text\/plain":[
              "94.42520473705885"
            ]
          },
          "metadata":{
            
          },
          "output_type":"display_data"
        }
      ],
      "metadata":{
        
      }
    },
    {
      "cell_type":"code",
      "source":[
        "plt.plot(gd_lin[0] * x + gd_lin[1])\n",
        "plt.plot(y, '.')"
      ],
      "execution_count":77,
      "outputs":[
        {
          "data":{
            "text\/plain":[
              "[<matplotlib.lines.Line2D at 0x7f5ba1bb98e0>]"
            ],
            "image\/png":"[encoded data removed]"
          },
          "metadata":{
            "image\/png":{
              
            }
          },
          "output_type":"display_data"
        }
      ],
      "metadata":{
        
      }
    },
    {
      "cell_type":"code",
      "source":[
        "a = 6\n",
        "b = -0.3\n",
        "ab_0 = [a, b]\n",
        "ab_i= [[1, -0.5], ab_0]\n",
        "beta_i = []\n",
        "grad_i = [[0.01, 0.01]]\n",
        "\n",
        "i=1\n",
        "while abs(ab_i[i][0] - ab_i[i-1][0]) > 0.001 and abs(ab_i[i][1] - ab_i[i-1][1]) > 0.001:\n",
        "    grad = [(np.sum((ab_i[i][0]\/(1+ab_i[i][1]*x)-y)*2\/(1+ab_i[i][1]*x)))\/len(x), (np.sum(2*ab_i[i][0]*x\/(1+ab_i[i][1]*x)**2*(ab_i[i][0]\/(1+ab_i[i][1]*x)-y)))\/len(x)]\n",
        "    grad_i.append(grad)\n",
        "    beta = abs((np.array(ab_i[i])-np.array(ab_i[i-1]))*(np.array(grad_i[i])-np.array(grad_i[i-1])))\/(abs(np.array(grad_i[i])-np.array(grad_i[i-1])))**2\n",
        "    beta_i.append(beta.tolist())\n",
        "    x_next = np.array(ab_i[i]) - beta_i[i-1] * np.array(grad_i[i])\n",
        "    ab_i.append(x_next.tolist())\n",
        "    i += 1\n",
        "gd_rat = ab_i[i]\n",
        "print(gd_rat, i)"
      ],
      "execution_count":83,
      "outputs":[
        {
          "name":"stdout",
          "text":[
            "[0.6993349825673923, -0.5036490875249459] 4\n"
          ],
          "output_type":"stream"
        }
      ],
      "metadata":{
        
      }
    },
    {
      "cell_type":"code",
      "source":[
        "loss_rational(gd_rat)"
      ],
      "execution_count":69,
      "outputs":[
        {
          "data":{
            "text\/plain":[
              "95.39854664117942"
            ]
          },
          "metadata":{
            
          },
          "output_type":"display_data"
        }
      ],
      "metadata":{
        
      }
    },
    {
      "cell_type":"code",
      "source":[
        "plt.plot(gd_rat[0]\/ (1+ gd_rat[1]*x))\n",
        "plt.plot(y, '.')"
      ],
      "execution_count":70,
      "outputs":[
        {
          "data":{
            "text\/plain":[
              "[<matplotlib.lines.Line2D at 0x7f5ba19c1730>]"
            ],
            "image\/png":"[encoded data removed]"
          },
          "metadata":{
            "image\/png":{
              
            }
          },
          "output_type":"display_data"
        }
      ],
      "metadata":{
        
      }
    },
    {
      "cell_type":"markdown",
      "source":[
        "# Conjugate descent"
      ],
      "attachments":{
        
      },
      "metadata":{
        
      }
    },
    {
      "cell_type":"code",
      "source":[
        "x0 = np.array([1,1])\n",
        "cg_lin = minimize(loss_linear, x0, method='CG', options={'disp':True})"
      ],
      "execution_count":23,
      "outputs":[
        {
          "name":"stdout",
          "text":[
            "Optimization terminated successfully.\n",
            "         Current function value: 94.423449\n",
            "         Iterations: 2\n",
            "         Function evaluations: 15\n",
            "         Gradient evaluations: 5\n"
          ],
          "output_type":"stream"
        }
      ],
      "metadata":{
        
      }
    },
    {
      "cell_type":"code",
      "source":[
        "plt.plot(cg_lin.x[1]*x+cg_lin.x[0])\n",
        "plt.title('Conjugate Gradient method, linear')\n",
        "plt.plot(y, '.')"
      ],
      "execution_count":84,
      "outputs":[
        {
          "data":{
            "text\/plain":[
              "[<matplotlib.lines.Line2D at 0x7f5b8d0ca9d0>]"
            ],
            "image\/png":"[encoded data removed]"
          },
          "metadata":{
            "image\/png":{
              
            }
          },
          "output_type":"display_data"
        }
      ],
      "metadata":{
        
      }
    },
    {
      "cell_type":"code",
      "source":[
        "x0 = np.array([1,1])\n",
        "cg_rat = minimize(loss_rational, x0, method='CG', options={'disp':True})\n",
        "cg_rat.x"
      ],
      "execution_count":25,
      "outputs":[
        {
          "name":"stdout",
          "text":[
            "Optimization terminated successfully.\n",
            "         Current function value: 94.754845\n",
            "         Iterations: 12\n",
            "         Function evaluations: 87\n",
            "         Gradient evaluations: 29\n"
          ],
          "output_type":"stream"
        },
        {
          "data":{
            "text\/html":[
              
            ]
          },
          "metadata":{
            
          },
          "output_type":"display_data"
        }
      ],
      "metadata":{
        
      }
    },
    {
      "cell_type":"code",
      "source":[
        "plt.plot(cg_rat.x[0] \/ (1+ cg_rat.x[1] * x))\n",
        "plt.plot(y, '.')\n",
        "plt.title('Conjugate Gradient method, rational')"
      ],
      "execution_count":26,
      "outputs":[
        {
          "data":{
            "text\/plain":[
              "Text(0.5, 1.0, 'Conjugate Gradient method, rational')"
            ],
            "image\/png":"[encoded data removed]"
          },
          "metadata":{
            "image\/png":{
              
            }
          },
          "output_type":"display_data"
        }
      ],
      "metadata":{
        
      }
    },
    {
      "cell_type":"markdown",
      "source":[
        "# Newton's method"
      ],
      "attachments":{
        
      },
      "metadata":{
        
      }
    },
    {
      "cell_type":"code",
      "source":[
        "x0 = np.array([1,1])\n",
        "fprime = lambda xx: optimize.approx_fprime(xx, loss_linear, 0.001)\n",
        "newton_lin = optimize.minimize(loss_linear, x0, method='Newton-CG', tol=0.001, jac=fprime, options={'disp':True})"
      ],
      "execution_count":27,
      "outputs":[
        {
          "name":"stdout",
          "text":[
            "Optimization terminated successfully.\n",
            "         Current function value: 94.423482\n",
            "         Iterations: 3\n",
            "         Function evaluations: 4\n",
            "         Gradient evaluations: 13\n",
            "         Hessian evaluations: 0\n"
          ],
          "output_type":"stream"
        }
      ],
      "metadata":{
        
      }
    },
    {
      "cell_type":"code",
      "source":[
        "plt.plot(newton_lin.x[1] *x + newton_lin.x[0])\n",
        "plt.plot(y, '.')\n",
        "plt.title(\"Newton's method, linear\")"
      ],
      "execution_count":85,
      "outputs":[
        {
          "data":{
            "text\/plain":[
              "Text(0.5, 1.0, \"Newton's method, linear\")"
            ],
            "image\/png":"[encoded data removed]"
          },
          "metadata":{
            "image\/png":{
              
            }
          },
          "output_type":"display_data"
        }
      ],
      "metadata":{
        
      }
    },
    {
      "cell_type":"code",
      "source":[
        "x0 = np.array([1,1])\n",
        "fprime = lambda xx: optimize.approx_fprime(xx, loss_rational, 0.01)\n",
        "newton_rat = optimize.minimize(loss_rational, x0, method='Newton-CG', tol=0.001, jac=fprime, options={'disp':True})"
      ],
      "execution_count":29,
      "outputs":[
        {
          "name":"stdout",
          "text":[
            "Warning: Desired error not necessarily achieved due to precision loss.\n",
            "         Current function value: 94.755318\n",
            "         Iterations: 9\n",
            "         Function evaluations: 37\n",
            "         Gradient evaluations: 53\n",
            "         Hessian evaluations: 0\n"
          ],
          "output_type":"stream"
        }
      ],
      "metadata":{
        
      }
    },
    {
      "cell_type":"code",
      "source":[
        "plt.plot(newton_rat.x[0] \/ (1+ newton_rat.x[1]*x))\n",
        "plt.plot(y, '.')\n",
        "plt.title(\"Newton's method, rational\")"
      ],
      "execution_count":30,
      "outputs":[
        {
          "data":{
            "text\/plain":[
              "Text(0.5, 1.0, \"Newton's method, rational\")"
            ],
            "image\/png":"[encoded data removed]"
          },
          "metadata":{
            "image\/png":{
              
            }
          },
          "output_type":"display_data"
        }
      ],
      "metadata":{
        
      }
    },
    {
      "cell_type":"markdown",
      "source":[
        "# Levenberg Marquardt"
      ],
      "attachments":{
        
      },
      "metadata":{
        
      }
    },
    {
      "cell_type":"code",
      "source":[
        "def linear(a, x_=x, y_=y):\n",
        "    a, b = a\n",
        "    return np.array([(a * x_[i] + b) - y_[i] for i in range(100)]).squeeze()"
      ],
      "execution_count":31,
      "outputs":[
        
      ],
      "metadata":{
        
      }
    },
    {
      "cell_type":"code",
      "source":[
        "x0 = np.array([1, 1])\n",
        "lm_linear = optimize.least_squares(linear, x0, method='lm', verbose=1)"
      ],
      "execution_count":79,
      "outputs":[
        {
          "name":"stdout",
          "text":[
            "`gtol` termination condition is satisfied.\n",
            "Function evaluations 6, initial cost 6.1418e+01, final cost 4.7212e+01, first-order optimality 1.04e-07.\n"
          ],
          "output_type":"stream"
        }
      ],
      "metadata":{
        
      }
    },
    {
      "cell_type":"code",
      "source":[
        "plt.plot(lm_linear.x[0]*x+lm_linear.x[1])\n",
        "plt.plot(y, '.')"
      ],
      "execution_count":80,
      "outputs":[
        {
          "data":{
            "text\/plain":[
              "[<matplotlib.lines.Line2D at 0x7f5ba1b76b80>]"
            ],
            "image\/png":"[encoded data removed]"
          },
          "metadata":{
            "image\/png":{
              
            }
          },
          "output_type":"display_data"
        }
      ],
      "metadata":{
        
      }
    },
    {
      "cell_type":"code",
      "source":[
        "def rational(a, x_=x, y_=y):\n",
        "    a, b = a\n",
        "    return np.array([(a \/ (1 + b * x_[i]) - y_[i])**2 for i in range(len(x_))]).squeeze()\n",
        "x0 = np.array([1,1])\n",
        "lm_rational = optimize.least_squares(rational, x0, method='lm', verbose=1, xtol=0.001, ftol=0.001)"
      ],
      "execution_count":34,
      "outputs":[
        {
          "name":"stdout",
          "text":[
            "`ftol` termination condition is satisfied.\n",
            "Function evaluations 23, initial cost 1.6858e+02, final cost 1.2094e+02, first-order optimality 2.42e+00.\n"
          ],
          "output_type":"stream"
        }
      ],
      "metadata":{
        
      }
    },
    {
      "cell_type":"code",
      "source":[
        "loss_rational(lm_rational.x)"
      ],
      "execution_count":45,
      "outputs":[
        {
          "data":{
            "text\/plain":[
              "94.87906112646021"
            ]
          },
          "metadata":{
            
          },
          "output_type":"display_data"
        }
      ],
      "metadata":{
        
      }
    },
    {
      "cell_type":"code",
      "source":[
        "plt.plot(lm_rational.x[0] \/ (1+lm_linear.x[1]*x))\n",
        "plt.plot(y, '.')"
      ],
      "execution_count":35,
      "outputs":[
        {
          "data":{
            "text\/plain":[
              "[<matplotlib.lines.Line2D at 0x7f5ba23648e0>]"
            ],
            "image\/png":"[encoded data removed]"
          },
          "metadata":{
            "image\/png":{
              
            }
          },
          "output_type":"display_data"
        }
      ],
      "metadata":{
        
      }
    },
    {
      "cell_type":"markdown",
      "source":[
        "# all"
      ],
      "attachments":{
        
      },
      "metadata":{
        
      }
    },
    {
      "cell_type":"code",
      "source":[
        "plt.plot(cg_lin.x[0] + cg_lin.x[1] * x, label='conjugate gd')\n",
        "plt.plot(y, '.')\n",
        "\n",
        "plt.plot(lm_linear.x[0] + lm_linear.x[1]*x, label='LM')\n",
        "plt.plot(newton_lin.x[0] + newton_lin.x[1]*x, label='Newton', linewidth=2)\n",
        "plt.plot(gd_lin[1] * x + gd_lin[0], label='Grad descent')\n",
        "\n",
        "\n",
        "plt.title(\"linear\")\n",
        "plt.legend()"
      ],
      "execution_count":86,
      "outputs":[
        {
          "data":{
            "text\/plain":[
              "<matplotlib.legend.Legend at 0x7f5b8d015490>"
            ],
            "image\/png":"[encoded data removed]"
          },
          "metadata":{
            "image\/png":{
              
            }
          },
          "output_type":"display_data"
        }
      ],
      "metadata":{
        
      }
    },
    {
      "cell_type":"code",
      "source":[
        "plt.plot(cg_rat.x[0] \/ (1+ cg_rat.x[1] * x), label='conjugate gd')\n",
        "plt.plot(y, '.')\n",
        "\n",
        "plt.plot(lm_rational.x[0] \/ (1+lm_rational.x[1]*x), label='LM')\n",
        "plt.plot(newton_rat.x[0] \/ (1+ newton_rat.x[1]*x), label='Newton', linewidth=2)\n",
        "plt.plot(gd_rat[0] \/ (1+ x * gd_rat[1]), label='Grad descent')\n",
        "\n",
        "\n",
        "plt.title(\"rational\")\n",
        "plt.legend()"
      ],
      "execution_count":72,
      "outputs":[
        {
          "data":{
            "text\/plain":[
              "<matplotlib.legend.Legend at 0x7f5ba19f23d0>"
            ],
            "image\/png":"[encoded data removed]"
          },
          "metadata":{
            "image\/png":{
              
            }
          },
          "output_type":"display_data"
        }
      ],
      "metadata":{
        
      }
    },
    {
      "cell_type":"code",
      "source":[
        
      ],
      "execution_count":69,
      "outputs":[
        
      ],
      "metadata":{
        
      }
    }
  ],
  "metadata":{
    
  },
  "nbformat":4,
  "nbformat_minor":0
}
