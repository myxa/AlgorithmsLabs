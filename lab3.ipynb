{
  "cells":[
    {
      "cell_type":"code",
      "source":[
        "import numpy as np\n",
        "import matplotlib.pyplot as plt\n",
        "import random\n",
        "from scipy import optimize\n",
        "from scipy.optimize import minimize\n",
        "%matplotlib inline\n",
        "random.seed(1917)\n",
        "np.random.seed(1917)"
      ],
      "execution_count":1,
      "outputs":[
        
      ],
      "metadata":{
        
      }
    },
    {
      "cell_type":"code",
      "source":[
        "alpha = random.uniform(0, 1)\n",
        "beta = random.uniform(0, 1)\n",
        "\n",
        "x = np.array([i\/100 for i in range(100)])\n",
        "y = np.array([alpha * x[i] + beta + np.random.standard_normal(1) for i in range(100)])"
      ],
      "execution_count":2,
      "outputs":[
        
      ],
      "metadata":{
        
      }
    },
    {
      "cell_type":"code",
      "source":[
        "plt.plot(x)\n",
        "plt.plot(y, '.')\n",
        "plt.title('Data')"
      ],
      "execution_count":43,
      "outputs":[
        {
          "data":{
            "text\/plain":[
              "Text(0.5, 1.0, 'Data')"
            ],
            "image\/png":"[encoded data removed]"
          },
          "metadata":{
            "image\/png":{
              
            }
          },
          "output_type":"display_data"
        }
      ],
      "metadata":{
        
      }
    },
    {
      "cell_type":"code",
      "source":[
        "def loss_linear(a, x_=x, y_=y):\n",
        "    a, b = a\n",
        "    return sum([((a * x_[i] + b) - y_[i])**2 for i in range(len(x_))])\n",
        "\n",
        "def loss_rational(a, x_=x, y_=y):\n",
        "    a, b = a\n",
        "    return sum([(a \/ (1 + b * x_[i]) - y_[i])**2 for i in range(len(x_))])"
      ],
      "execution_count":28,
      "outputs":[
        
      ],
      "metadata":{
        
      }
    },
    {
      "cell_type":"markdown",
      "source":[
        "# Gradient descent"
      ],
      "attachments":{
        
      },
      "metadata":{
        
      }
    },
    {
      "cell_type":"code",
      "source":[
        "import torch\n",
        "torch.manual_seed(1917)\n",
        "\n",
        "a_lin = torch.tensor(1., requires_grad=True)\n",
        "b_lin = torch.tensor(1., requires_grad=True)\n",
        "x_torch = torch.FloatTensor(x)\n",
        "y_torch = torch.FloatTensor(y)\n",
        "\n",
        "gamma = 0.00001\n",
        "it = 0\n",
        "\n",
        "for i in range(40):\n",
        "#while :\n",
        "    print(it)\n",
        "    it +=1\n",
        "\n",
        "    y_pred = a_lin * x_torch + b_lin\n",
        "    #loss = torch.mean((y_pred - y_torch) ** 2)\n",
        "    loss = torch.nn.MSELoss(reduction='sum')#sum((y_pred - y_torch) ** 2)\n",
        "    losses = loss(y_pred, y_torch)\n",
        "\n",
        "    # backward\n",
        "    losses.backward()\n",
        "    print('a:', a_lin)\n",
        "    print('b:', b_lin)\n",
        "    print('')\n",
        "    print(losses)\n",
        "\n",
        "    with torch.no_grad():\n",
        "        a_lin = a_lin - gamma * a_lin.grad\n",
        "        b_lin = b_lin - gamma * b_lin.grad\n",
        "    a_lin.requires_grad = True\n",
        "    b_lin.requires_grad = True"
      ],
      "execution_count":3,
      "outputs":[
        
      ],
      "metadata":{
        
      }
    },
    {
      "cell_type":"code",
      "source":[
        "plt.plot(a_lin.detach().numpy() * x + b_lin.detach().numpy())\n",
        "plt.plot(y, '.')"
      ],
      "execution_count":9,
      "outputs":[
        {
          "data":{
            "text\/plain":[
              "[<matplotlib.lines.Line2D at 0x7ff67ef8c430>]"
            ],
            "image\/png":"[encoded data removed]"
          },
          "metadata":{
            "image\/png":{
              
            }
          },
          "output_type":"display_data"
        }
      ],
      "metadata":{
        
      }
    },
    {
      "cell_type":"code",
      "source":[
        "import torch\n",
        "torch.manual_seed(1917)\n",
        "\n",
        "a = torch.tensor(2., requires_grad=True)\n",
        "b = torch.tensor(2., requires_grad=True)\n",
        "x_torch = torch.FloatTensor(x)\n",
        "y_torch = torch.FloatTensor(y)\n",
        "\n",
        "gamma = 1\n",
        "it = 0\n",
        "\n",
        "for i in range(1000):\n",
        "#while :\n",
        "    print(it)\n",
        "    it +=1\n",
        "    # use new weight to calculate loss\n",
        "    y_pred = a \/ (1 + b * x_torch)\n",
        "    #loss = torch.mean((y_pred - y_torch) ** 2)\n",
        "    loss = torch.nn.MSELoss(reduction='sum')#sum((y_pred - y_torch) ** 2)\n",
        "    losses = loss(y_pred, y_torch)\n",
        "\n",
        "    # backward\n",
        "    losses.backward()\n",
        "    print('a:', a)\n",
        "    print('b:', b)\n",
        "    print('')\n",
        "    print(losses)\n",
        "    with torch.no_grad():\n",
        "        a = a - 0.00001 * a.grad\n",
        "        b = b - 0.00001 * b.grad\n",
        "    a.requires_grad = True\n",
        "    b.requires_grad = True"
      ],
      "execution_count":7,
      "outputs":[
        
      ],
      "metadata":{
        
      }
    },
    {
      "cell_type":"code",
      "source":[
        "plt.plot(a.detach().numpy() \/ (1+ b.detach().numpy()*x))\n",
        "plt.plot(y, '.')"
      ],
      "execution_count":10,
      "outputs":[
        {
          "data":{
            "text\/plain":[
              "[<matplotlib.lines.Line2D at 0x7ff67ef6b250>]"
            ],
            "image\/png":"[encoded data removed]"
          },
          "metadata":{
            "image\/png":{
              
            }
          },
          "output_type":"display_data"
        }
      ],
      "metadata":{
        
      }
    },
    {
      "cell_type":"markdown",
      "source":[
        "# Conjugate descent"
      ],
      "attachments":{
        
      },
      "metadata":{
        
      }
    },
    {
      "cell_type":"code",
      "source":[
        "x0 = np.array([3,1])\n",
        "cg_lin = minimize(loss_linear, x0, method='CG', options={'disp':True})"
      ],
      "execution_count":29,
      "outputs":[
        {
          "name":"stdout",
          "text":[
            "Optimization terminated successfully.\n",
            "         Current function value: 94.423449\n",
            "         Iterations: 12\n",
            "         Function evaluations: 60\n",
            "         Gradient evaluations: 20\n"
          ],
          "output_type":"stream"
        }
      ],
      "metadata":{
        
      }
    },
    {
      "cell_type":"code",
      "source":[
        "plt.plot(cg_lin.x[0]*x+cg_lin.x[1])\n",
        "plt.title('Conjugate Gradient method, linear')\n",
        "plt.plot(y, '.')"
      ],
      "execution_count":51,
      "outputs":[
        {
          "data":{
            "text\/plain":[
              "[<matplotlib.lines.Line2D at 0x7f51bbcc7b80>]"
            ],
            "image\/png":"[encoded data removed]"
          },
          "metadata":{
            "image\/png":{
              
            }
          },
          "output_type":"display_data"
        }
      ],
      "metadata":{
        
      }
    },
    {
      "cell_type":"code",
      "source":[
        "x0 = np.array([1,1])\n",
        "cg_rat = minimize(loss_rational, x0, method='CG', options={'disp':True})\n",
        "cg_rat.x"
      ],
      "execution_count":52,
      "outputs":[
        {
          "name":"stdout",
          "text":[
            "Optimization terminated successfully.\n",
            "         Current function value: 94.754845\n",
            "         Iterations: 12\n",
            "         Function evaluations: 87\n",
            "         Gradient evaluations: 29\n"
          ],
          "output_type":"stream"
        },
        {
          "data":{
            "text\/html":[
              
            ]
          },
          "metadata":{
            
          },
          "output_type":"display_data"
        }
      ],
      "metadata":{
        
      }
    },
    {
      "cell_type":"code",
      "source":[
        "plt.plot(cg_rat.x[0] \/ (1+ cg_rat.x[1] * x))\n",
        "plt.plot(y, '.')\n",
        "plt.title('Conjugate Gradient method, rational')"
      ],
      "execution_count":53,
      "outputs":[
        {
          "data":{
            "text\/plain":[
              "Text(0.5, 1.0, 'Conjugate Gradient method, rational')"
            ],
            "image\/png":"[encoded data removed]"
          },
          "metadata":{
            "image\/png":{
              
            }
          },
          "output_type":"display_data"
        }
      ],
      "metadata":{
        
      }
    },
    {
      "cell_type":"markdown",
      "source":[
        "# Newton's method"
      ],
      "attachments":{
        
      },
      "metadata":{
        
      }
    },
    {
      "cell_type":"code",
      "source":[
        "x0 = np.array([1,1])\n",
        "fprime = lambda xx: optimize.approx_fprime(xx, loss_linear, 0.01)\n",
        "newton_lin = optimize.minimize(loss_linear, x0, method='Newton-CG', tol=0.001, jac=fprime, options={'disp':True})"
      ],
      "execution_count":30,
      "outputs":[
        {
          "name":"stdout",
          "text":[
            "Optimization terminated successfully.\n",
            "         Current function value: 94.426782\n",
            "         Iterations: 3\n",
            "         Function evaluations: 4\n",
            "         Gradient evaluations: 17\n",
            "         Hessian evaluations: 0\n"
          ],
          "output_type":"stream"
        }
      ],
      "metadata":{
        
      }
    },
    {
      "cell_type":"code",
      "source":[
        "plt.plot(newton_lin.x[0] *x + newton_lin.x[1])\n",
        "plt.plot(y, '.')\n",
        "plt.title(\"Newton's method, linear\")"
      ],
      "execution_count":56,
      "outputs":[
        {
          "data":{
            "text\/plain":[
              "Text(0.5, 1.0, \"Newton's method, linear\")"
            ],
            "image\/png":"[encoded data removed]"
          },
          "metadata":{
            "image\/png":{
              
            }
          },
          "output_type":"display_data"
        }
      ],
      "metadata":{
        
      }
    },
    {
      "cell_type":"code",
      "source":[
        "x0 = np.array([1,1])\n",
        "fprime = lambda xx: optimize.approx_fprime(xx, loss_rational, 0.01)\n",
        "newton_rat = optimize.minimize(loss_rational, x0, method='Newton-CG', tol=0.001, jac=fprime, options={'disp':True})"
      ],
      "execution_count":57,
      "outputs":[
        {
          "name":"stdout",
          "text":[
            "Warning: Desired error not necessarily achieved due to precision loss.\n",
            "         Current function value: 94.755318\n",
            "         Iterations: 9\n",
            "         Function evaluations: 37\n",
            "         Gradient evaluations: 53\n",
            "         Hessian evaluations: 0\n"
          ],
          "output_type":"stream"
        }
      ],
      "metadata":{
        
      }
    },
    {
      "cell_type":"code",
      "source":[
        "plt.plot(newton_rat.x[0] \/ (1+ newton_rat.x[1]*x))\n",
        "plt.plot(y, '.')\n",
        "plt.title(\"Newton's method, rational\")"
      ],
      "execution_count":59,
      "outputs":[
        {
          "data":{
            "text\/plain":[
              "Text(0.5, 1.0, \"Newton's method, rational\")"
            ],
            "image\/png":"[encoded data removed]"
          },
          "metadata":{
            "image\/png":{
              
            }
          },
          "output_type":"display_data"
        }
      ],
      "metadata":{
        
      }
    },
    {
      "cell_type":"markdown",
      "source":[
        "# Levenberg Marquardt"
      ],
      "attachments":{
        
      },
      "metadata":{
        
      }
    },
    {
      "cell_type":"code",
      "source":[
        "def linear(a, x_=x, y_=y):\n",
        "    a, b = a\n",
        "    return np.array([(a * x_[i] + b) - y_[i] for i in range(100)]).squeeze()"
      ],
      "execution_count":31,
      "outputs":[
        
      ],
      "metadata":{
        
      }
    },
    {
      "cell_type":"code",
      "source":[
        "x0 = np.array([1, 1])\n",
        "lm_linear = optimize.least_squares(linear, x0, method='lm', verbose=1)"
      ],
      "execution_count":32,
      "outputs":[
        {
          "name":"stdout",
          "text":[
            "`gtol` termination condition is satisfied.\n",
            "Function evaluations 6, initial cost 6.1418e+01, final cost 4.7212e+01, first-order optimality 1.04e-07.\n"
          ],
          "output_type":"stream"
        }
      ],
      "metadata":{
        
      }
    },
    {
      "cell_type":"code",
      "source":[
        "plt.plot(lm_linear.x[0]*x+lm_linear.x[1])\n",
        "plt.plot(y, '.')"
      ],
      "execution_count":64,
      "outputs":[
        {
          "data":{
            "text\/plain":[
              "[<matplotlib.lines.Line2D at 0x7f51bbb98790>]"
            ],
            "image\/png":"[encoded data removed]"
          },
          "metadata":{
            "image\/png":{
              
            }
          },
          "output_type":"display_data"
        }
      ],
      "metadata":{
        
      }
    },
    {
      "cell_type":"code",
      "source":[
        "def rational(a, x_=x, y_=y):\n",
        "    a, b = a\n",
        "    return np.array([(a \/ (1 + b * x_[i]) - y_[i])**2 for i in range(len(x_))]).squeeze()\n",
        "x0 = np.array([1,1])\n",
        "lm_rational = optimize.least_squares(rational, x0, method='lm', verbose=1, xtol=0.001, ftol=0.001)"
      ],
      "execution_count":7,
      "outputs":[
        {
          "name":"stdout",
          "text":[
            "`ftol` termination condition is satisfied.\n",
            "Function evaluations 23, initial cost 1.6858e+02, final cost 1.2094e+02, first-order optimality 2.42e+00.\n"
          ],
          "output_type":"stream"
        }
      ],
      "metadata":{
        
      }
    },
    {
      "cell_type":"code",
      "source":[
        "plt.plot(lm_rational.x[0] \/ (1+lm_linear.x[1]*x))\n",
        "plt.plot(y, '.')"
      ],
      "execution_count":67,
      "outputs":[
        {
          "data":{
            "text\/plain":[
              "[<matplotlib.lines.Line2D at 0x7f51bbb6f820>]"
            ],
            "image\/png":"[encoded data removed]"
          },
          "metadata":{
            "image\/png":{
              
            }
          },
          "output_type":"display_data"
        }
      ],
      "metadata":{
        
      }
    },
    {
      "cell_type":"markdown",
      "source":[
        "# all"
      ],
      "attachments":{
        
      },
      "metadata":{
        
      }
    },
    {
      "cell_type":"code",
      "source":[
        "plt.plot(cg_lin.x[0] \/ (1+ cg_lin.x[1] * x), label='conjugate gd', linewidth=5)\n",
        "plt.plot(y, '.')\n",
        "\n",
        "plt.plot(lm_linear.x[0] \/ (1+lm_linear.x[1]*x), label='LM')\n",
        "plt.plot(newton_lin.x[0] \/ (1+ newton_lin.x[1]*x), label='Newton', linewidth=2)\n",
        "plt.plot(a_lin.detach().numpy() * x + b_lin.detach().numpy(), label='Grad descent')\n",
        "\n",
        "\n",
        "plt.title(\"linear\")\n",
        "plt.legend()"
      ],
      "execution_count":33,
      "outputs":[
        {
          "data":{
            "text\/plain":[
              "<matplotlib.legend.Legend at 0x7fb527b0c910>"
            ],
            "image\/png":"[encoded data removed]"
          },
          "metadata":{
            "image\/png":{
              
            }
          },
          "output_type":"display_data"
        }
      ],
      "metadata":{
        
      }
    },
    {
      "cell_type":"code",
      "source":[
        "plt.plot(cg_rat.x[0] \/ (1+ cg_rat.x[1] * x), label='conjugate gd', linewidth=5)\n",
        "plt.plot(y, '.')\n",
        "\n",
        "plt.plot(lm_rational.x[0] \/ (1+lm_rational.x[1]*x), label='LM')\n",
        "plt.plot(newton_rat.x[0] \/ (1+ newton_rat.x[1]*x), label='Newton', linewidth=2)\n",
        "plt.plot(a.detach().numpy() \/ (1+ x * b.detach().numpy()), label='Grad descent')\n",
        "\n",
        "\n",
        "plt.title(\"rational\")\n",
        "plt.legend()"
      ],
      "execution_count":69,
      "outputs":[
        {
          "data":{
            "text\/plain":[
              "<matplotlib.legend.Legend at 0x7f51bbabc4c0>"
            ],
            "image\/png":"[encoded data removed]"
          },
          "metadata":{
            "image\/png":{
              
            }
          },
          "output_type":"display_data"
        }
      ],
      "metadata":{
        
      }
    },
    {
      "cell_type":"code",
      "source":[
        
      ],
      "execution_count":69,
      "outputs":[
        
      ],
      "metadata":{
        
      }
    }
  ],
  "metadata":{
    
  },
  "nbformat":4,
  "nbformat_minor":0
}