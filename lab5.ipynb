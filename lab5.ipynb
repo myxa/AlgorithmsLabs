{
  "cells":[
    {
      "cell_type":"code",
      "source":[
        "import networkx as nx\n",
        "import numpy as np\n",
        "import matplotlib.pyplot as plt\n",
        "\n",
        "np.random.seed(2006)"
      ],
      "execution_count":66,
      "outputs":[
        
      ],
      "metadata":{
        
      }
    },
    {
      "cell_type":"markdown",
      "source":[
        "# 1 task"
      ],
      "attachments":{
        
      },
      "metadata":{
        
      }
    },
    {
      "cell_type":"code",
      "source":[
        "# matrix\n",
        "matr = np.zeros((100, 100))\n",
        "t=200\n",
        "while np.sum(matr) <= 400:\n",
        "    i = np.random.randint(0, 100)\n",
        "    j = np.random.randint(0, 100)\n",
        "    if i!=j and matr[i,j] != 1:\n",
        "        matr[i,j] = 1\n",
        "        matr[j,i] = 1"
      ],
      "execution_count":79,
      "outputs":[
        
      ],
      "metadata":{
        
      }
    },
    {
      "cell_type":"code",
      "source":[
        "# matrix to list\n",
        "adlist = {}\n",
        "    \n",
        "for i in range(100):\n",
        "    adlist[i] = []\n",
        "    for j in range(100):\n",
        "        if matr[i][j]==1:\n",
        "            adlist[i].append(j)\n",
        "print(adlist)"
      ],
      "execution_count":80,
      "outputs":[
        {
          "name":"stdout",
          "text":[
            "{0: [],\n",
            " 1: [40, 52, 68, 83, 91],\n",
            " 2: [62, 75, 83],\n",
            " 3: [27, 35, 38, 57, 61, 66, 77, 79],\n",
            " 4: [45, 91, 95, 98],\n",
            " 5: [48, 74],\n",
            " 6: [56, 57],\n",
            " 7: [9, 10, 15, 39, 53, 60, 92, 93],\n",
            " 8: [26, 44, 50, 83, 85],\n",
            " 9: [7, 20, 40, 56, 70, 72, 81],\n",
            " 10: [7, 47, 90],\n",
            " 11: [36, 38, 47, 48, 70, 89],\n",
            " 12: [28, 43, 71],\n",
            " 13: [23, 62, 79],\n",
            " 14: [19, 99],\n",
            " 15: [7, 21, 34, 45, 71],\n",
            " 16: [38, 53, 56, 67, 84, 89],\n",
            " 17: [50, 54],\n",
            " 18: [34, 41, 47, 92],\n",
            " 19: [14, 39],\n",
            " 20: [9],\n",
            " 21: [15, 22, 23, 75, 94],\n",
            " 22: [21, 29, 38, 39, 70, 75, 78, 86, 93],\n",
            " 23: [13, 21, 57, 68, 76],\n",
            " 24: [26, 31, 32, 43, 63, 91],\n",
            " 25: [48],\n",
            " 26: [8, 24, 38],\n",
            " 27: [3, 58, 87],\n",
            " 28: [12],\n",
            " 29: [22, 64, 75],\n",
            " 30: [32, 48, 51, 53, 99],\n",
            " 31: [24, 58, 91],\n",
            " 32: [24, 30, 53, 74],\n",
            " 33: [35, 84, 92],\n",
            " 34: [15, 18, 74],\n",
            " 35: [3, 33, 43, 65, 80, 81],\n",
            " 36: [11, 45, 86],\n",
            " 37: [94],\n",
            " 38: [3, 11, 16, 22, 26, 74, 81],\n",
            " 39: [7, 19, 22, 48, 72, 95],\n",
            " 40: [1, 9, 70],\n",
            " 41: [18, 42, 51, 70, 79, 95, 96],\n",
            " 42: [41, 64, 70],\n",
            " 43: [12, 24, 35, 61, 92],\n",
            " 44: [8],\n",
            " 45: [4, 15, 36, 60, 68],\n",
            " 46: [56],\n",
            " 47: [10, 11, 18, 71],\n",
            " 48: [5, 11, 25, 30, 39, 83, 89],\n",
            " 49: [63, 82, 88, 91],\n",
            " 50: [8, 17, 66],\n",
            " 51: [30, 41],\n",
            " 52: [1, 57, 73, 82, 96],\n",
            " 53: [7, 16, 30, 32, 56],\n",
            " 54: [17, 69, 77, 86],\n",
            " 55: [78],\n",
            " 56: [6, 9, 16, 46, 53],\n",
            " 57: [3, 6, 23, 52, 61, 69, 97, 98],\n",
            " 58: [27, 31, 62, 93],\n",
            " 59: [61],\n",
            " 60: [7, 45, 65],\n",
            " 61: [3, 43, 57, 59, 64, 72],\n",
            " 62: [2, 13, 58, 71, 88],\n",
            " 63: [24, 49, 78, 85],\n",
            " 64: [29, 42, 61, 90],\n",
            " 65: [35, 60, 98],\n",
            " 66: [3, 50, 71, 77, 95],\n",
            " 67: [16, 77],\n",
            " 68: [1, 23, 45, 87],\n",
            " 69: [54, 57, 91, 95, 98],\n",
            " 70: [9, 11, 22, 40, 41, 42],\n",
            " 71: [12, 15, 47, 62, 66],\n",
            " 72: [9, 39, 61],\n",
            " 73: [52],\n",
            " 74: [5, 32, 34, 38, 96],\n",
            " 75: [2, 21, 22, 29, 90],\n",
            " 76: [23, 96, 98],\n",
            " 77: [3, 54, 66, 67, 93, 98],\n",
            " 78: [22, 55, 63, 80],\n",
            " 79: [3, 13, 41, 81],\n",
            " 80: [35, 78, 99],\n",
            " 81: [9, 35, 38, 79],\n",
            " 82: [49, 52],\n",
            " 83: [1, 2, 8, 48, 93],\n",
            " 84: [16, 33, 89],\n",
            " 85: [8, 63, 90, 97],\n",
            " 86: [22, 36, 54, 93],\n",
            " 87: [27, 68],\n",
            " 88: [49, 62],\n",
            " 89: [11, 16, 48, 84, 96],\n",
            " 90: [10, 64, 75, 85],\n",
            " 91: [1, 4, 24, 31, 49, 69, 98],\n",
            " 92: [7, 18, 33, 43, 97],\n",
            " 93: [7, 22, 58, 77, 83, 86],\n",
            " 94: [21, 37],\n",
            " 95: [4, 39, 41, 66, 69],\n",
            " 96: [41, 52, 74, 76, 89],\n",
            " 97: [57, 85, 92],\n",
            " 98: [4, 57, 65, 69, 76, 77, 91, 99],\n",
            " 99: [14, 30, 80, 98]}\n"
          ],
          "output_type":"stream"
        }
      ],
      "metadata":{
        
      }
    },
    {
      "cell_type":"code",
      "source":[
        "# check the isolated nodes\n",
        "for i in range(len(adlist)):\n",
        "    if len(adlist[i]) == 0:\n",
        "        print(i)"
      ],
      "execution_count":118,
      "outputs":[
        {
          "name":"stdout",
          "text":[
            "0\n"
          ],
          "output_type":"stream"
        }
      ],
      "metadata":{
        
      }
    },
    {
      "cell_type":"code",
      "source":[
        "gr = nx.Graph(adlist)\n",
        "\n",
        "nx.draw(gr, node_size = 20)\n",
        "plt.show()"
      ],
      "execution_count":117,
      "outputs":[
        {
          "data":{
            "image\/png":"[encoded data removed]"
          },
          "metadata":{
            "image\/png":{
              
            }
          },
          "output_type":"display_data"
        }
      ],
      "metadata":{
        
      }
    },
    {
      "cell_type":"markdown",
      "source":[
        "# 2 task"
      ],
      "attachments":{
        
      },
      "metadata":{
        
      }
    },
    {
      "cell_type":"code",
      "source":[
        "def dfs(graph, node, visited):\n",
        "    if node not in visited:\n",
        "        visited.append(node)\n",
        "        for n in graph[node]:\n",
        "            dfs(graph,n, visited)\n",
        "    return visited\n",
        "\n",
        "visited = dfs(adlist,9, [])\n",
        "print(visited)"
      ],
      "execution_count":131,
      "outputs":[
        {
          "name":"stdout",
          "text":[
            "[9, 7, 10, 47, 11, 36, 45, 4, 91, 1, 40, 70, 22, 21, 15, 34, 18, 41, 42, 64, 29, 75, 2, 62, 13, 23, 57, 3, 27, 58, 31, 24, 26, 8, 44, 50, 17, 54, 69, 95, 39, 19, 14, 99, 30, 32, 53, 16, 38, 74, 5, 48, 25, 83, 93, 77, 66, 71, 12, 28, 43, 35, 33, 84, 89, 96, 52, 73, 82, 49, 63, 78, 55, 80, 85, 90, 97, 92, 88, 76, 98, 65, 60, 81, 79, 61, 59, 72, 67, 86, 56, 6, 46, 51, 87, 68, 94, 37, 20]\n"
          ],
          "output_type":"stream"
        }
      ],
      "metadata":{
        
      }
    },
    {
      "cell_type":"code",
      "source":[
        "visited = dfs(adlist,0, [])\n",
        "print(visited)"
      ],
      "execution_count":132,
      "outputs":[
        {
          "name":"stdout",
          "text":[
            "[0]\n"
          ],
          "output_type":"stream"
        }
      ],
      "metadata":{
        
      }
    },
    {
      "cell_type":"code",
      "source":[
        "def backtrace(parent, start, end):\n",
        "    path = [end]\n",
        "    while path[-1] != start:\n",
        "        path.append(parent[path[-1]])\n",
        "    path.reverse()\n",
        "    return path\n",
        "        \n",
        "\n",
        "def bfs(graph, start, end):\n",
        "    parent = {}\n",
        "    queue = []\n",
        "    queue.append(start)\n",
        "    while queue:\n",
        "        node = queue.pop(0)\n",
        "        if node == end:\n",
        "            return backtrace(parent, start, end)\n",
        "        for adjacent in graph.get(node, []):\n",
        "            if node not in queue :\n",
        "                parent[adjacent] = node # <<<<< record its parent \n",
        "                queue.append(adjacent)\n",
        "\n",
        "print(bfs(adlist, 1, 3))\n",
        "print(bfs(adlist, 0, 3))"
      ],
      "execution_count":135,
      "outputs":[
        {
          "name":"stdout",
          "text":[
            "[1, 52, 57, 3]\n",
            "None\n"
          ],
          "output_type":"stream"
        }
      ],
      "metadata":{
        
      }
    },
    {
      "cell_type":"code",
      "source":[
        
      ],
      "execution_count":0,
      "outputs":[
        
      ],
      "metadata":{
        
      }
    }
  ],
  "metadata":{
    
  },
  "nbformat":4,
  "nbformat_minor":0
}