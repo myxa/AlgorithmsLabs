{
  "cells":[
    {
      "cell_type":"code",
      "source":[
        "import numpy as np\n",
        "import matplotlib.pyplot as plt\n",
        "import random\n",
        "from scipy import optimize\n",
        "from scipy.optimize import minimize\n",
        "\n",
        "random.seed(1917)\n",
        "np.random.seed(1917)"
      ],
      "execution_count":1,
      "outputs":[
        
      ],
      "metadata":{
        
      }
    },
    {
      "cell_type":"markdown",
      "source":[
        "# 1"
      ],
      "attachments":{
        
      },
      "metadata":{
        
      }
    },
    {
      "cell_type":"code",
      "source":[
        "def cubic(x):\n",
        "    return x**3\n",
        "\n",
        "def module(x):\n",
        "    return abs(x - 0.2)\n",
        "\n",
        "def sin1x(x):\n",
        "    return x * np.sin(1\/x)"
      ],
      "execution_count":9,
      "outputs":[
        
      ],
      "metadata":{
        
      }
    },
    {
      "cell_type":"code",
      "source":[
        "vec = np.random.uniform(0, 1, 1000)\n",
        "vec_sin = np.random.uniform(0.01, 1, 1000)"
      ],
      "execution_count":10,
      "outputs":[
        
      ],
      "metadata":{
        
      }
    },
    {
      "cell_type":"markdown",
      "source":[
        "## exhaustive search"
      ],
      "attachments":{
        
      },
      "metadata":{
        
      }
    },
    {
      "cell_type":"code",
      "source":[
        "def exhaustive_search(x, a, b, fun, error=0.001):\n",
        "    iters = 0\n",
        "    x_i = np.zeros((x.size+1,))\n",
        "    for i in range(len(x)+1):\n",
        "        x_i[i] = a + i * ((b-a) \/ (len(x)))\n",
        "        iters += 1\n",
        "\n",
        "    f_x = fun(x_i)\n",
        "    x_m = f_x[0]\n",
        "    for i in range(1, len(f_x)):\n",
        "        if f_x[i] < x_m:\n",
        "            x_m = f_x[i]\n",
        "            iters += 1\n",
        "\n",
        "    print('iterations:', iters, '| func: len(x) |', 'len(x):', len(x))\n",
        "        \n",
        "    return x_m"
      ],
      "execution_count":38,
      "outputs":[
        
      ],
      "metadata":{
        
      }
    },
    {
      "cell_type":"code",
      "source":[
        "exhaustive_search(vec, 0, 1, cubic)"
      ],
      "execution_count":34,
      "outputs":[
        {
          "name":"stdout",
          "text":[
            "iterations: 1001 | func: len(x) | len(x): 1000\n"
          ],
          "output_type":"stream"
        },
        {
          "data":{
            "text\/plain":[
              "0.0"
            ]
          },
          "metadata":{
            
          },
          "output_type":"display_data"
        }
      ],
      "metadata":{
        
      }
    },
    {
      "cell_type":"code",
      "source":[
        "exhaustive_search(vec, 0, 1, module)"
      ],
      "execution_count":32,
      "outputs":[
        {
          "name":"stdout",
          "text":[
            "iterations: 1201 | func: len(x) | len(x): 1000\n"
          ],
          "output_type":"stream"
        },
        {
          "data":{
            "text\/plain":[
              "0.0"
            ]
          },
          "metadata":{
            
          },
          "output_type":"display_data"
        }
      ],
      "metadata":{
        
      }
    },
    {
      "cell_type":"code",
      "source":[
        "exhaustive_search(vec_sin, 0.01, 1, sin1x)"
      ],
      "execution_count":38,
      "outputs":[
        {
          "name":"stdout",
          "text":[
            "iterations: 1069 | func: len(x) | len(x): 1000\n"
          ],
          "output_type":"stream"
        },
        {
          "data":{
            "text\/plain":[
              "-0.21722960129123117"
            ]
          },
          "metadata":{
            
          },
          "output_type":"display_data"
        }
      ],
      "metadata":{
        
      }
    },
    {
      "cell_type":"markdown",
      "source":[
        "## dichotomy"
      ],
      "attachments":{
        
      },
      "metadata":{
        
      }
    },
    {
      "cell_type":"code",
      "source":[
        "def dichotomy(a, b, fun, error=0.001):\n",
        "    iters = 0\n",
        "    func = 0\n",
        "    delta = 0.0005\n",
        "    while abs(a - b) >= error:\n",
        "        iters +=1\n",
        "        x1 = (a + b - delta) \/ 2\n",
        "        x2 = (a + b + delta) \/ 2\n",
        "        func += 2\n",
        "        if fun(x1) <= fun(x2):\n",
        "            b = x2\n",
        "        else:\n",
        "            a = x1\n",
        "\n",
        "    print('iters:', iters, 'func:', func)\n",
        "    return fun((a + b) \/ 2)\n",
        "    "
      ],
      "execution_count":76,
      "outputs":[
        
      ],
      "metadata":{
        
      }
    },
    {
      "cell_type":"code",
      "source":[
        "dichotomy(0, 1, cubic)"
      ],
      "execution_count":77,
      "outputs":[
        {
          "name":"stdout",
          "text":[
            "iters: 11 func: 22\n"
          ],
          "output_type":"stream"
        },
        {
          "data":{
            "text\/plain":[
              "1.2056736854538035e-10"
            ]
          },
          "metadata":{
            
          },
          "output_type":"display_data"
        }
      ],
      "metadata":{
        
      }
    },
    {
      "cell_type":"code",
      "source":[
        "dichotomy(0, 1, module)"
      ],
      "execution_count":78,
      "outputs":[
        {
          "name":"stdout",
          "text":[
            "iters: 11 func: 22\n"
          ],
          "output_type":"stream"
        },
        {
          "data":{
            "text\/plain":[
              "0.0001011962890624385"
            ]
          },
          "metadata":{
            
          },
          "output_type":"display_data"
        }
      ],
      "metadata":{
        
      }
    },
    {
      "cell_type":"code",
      "source":[
        "dichotomy(0.01, 1, sin1x)"
      ],
      "execution_count":79,
      "outputs":[
        {
          "name":"stdout",
          "text":[
            "iters: 11 func: 22\n"
          ],
          "output_type":"stream"
        },
        {
          "data":{
            "text\/plain":[
              "-0.21723352556119732"
            ]
          },
          "metadata":{
            
          },
          "output_type":"display_data"
        }
      ],
      "metadata":{
        
      }
    },
    {
      "cell_type":"markdown",
      "source":[
        "## golden section"
      ],
      "attachments":{
        
      },
      "metadata":{
        
      }
    },
    {
      "cell_type":"code",
      "source":[
        "def golden_section(a, b, fun, error=0.001):\n",
        "    iters = 0\n",
        "    func = 0\n",
        "\n",
        "    while abs(a - b) > error:\n",
        "        iters +=1\n",
        "        func += 1\n",
        "        x1 = a + (3 - np.sqrt(5))\/2 * (b - a)\n",
        "        x2 = b + (np.sqrt(5) - 3)\/2 * (b - a)\n",
        "        if fun(x1) <= fun(x2):\n",
        "            b = x2\n",
        "            x2 = x1\n",
        "\n",
        "        else:\n",
        "            a = x1\n",
        "            x1 = x2\n",
        "\n",
        "    print('iters:', iters, 'func:', func)\n",
        "    return fun((a + b) \/ 2)\n",
        "    "
      ],
      "execution_count":11,
      "outputs":[
        
      ],
      "metadata":{
        
      }
    },
    {
      "cell_type":"code",
      "source":[
        "golden_section(0,1,cubic)"
      ],
      "execution_count":12,
      "outputs":[
        {
          "name":"stdout",
          "text":[
            "iters: 15 func: 15\n"
          ],
          "output_type":"stream"
        },
        {
          "data":{
            "text\/plain":[
              "4.9256800857728645e-11"
            ]
          },
          "metadata":{
            
          },
          "output_type":"display_data"
        }
      ],
      "metadata":{
        
      }
    },
    {
      "cell_type":"code",
      "source":[
        "golden_section(0,1,module)"
      ],
      "execution_count":14,
      "outputs":[
        {
          "name":"stdout",
          "text":[
            "iters: 15 func: 15\n"
          ],
          "output_type":"stream"
        },
        {
          "data":{
            "text\/plain":[
              "7.331374358574005e-05"
            ]
          },
          "metadata":{
            
          },
          "output_type":"display_data"
        }
      ],
      "metadata":{
        
      }
    },
    {
      "cell_type":"code",
      "source":[
        "golden_section(0.01, 1, sin1x)"
      ],
      "execution_count":61,
      "outputs":[
        {
          "name":"stdout",
          "text":[
            "iters: 15 func: 15\n"
          ],
          "output_type":"stream"
        },
        {
          "data":{
            "text\/plain":[
              "-0.2172323281775325"
            ]
          },
          "metadata":{
            
          },
          "output_type":"display_data"
        }
      ],
      "metadata":{
        
      }
    },
    {
      "cell_type":"markdown",
      "source":[
        "# 2"
      ],
      "attachments":{
        
      },
      "metadata":{
        
      }
    },
    {
      "cell_type":"code",
      "source":[
        "\n",
        "alpha = random.uniform(0, 1)\n",
        "beta = random.uniform(0, 1)\n",
        "\n",
        "x = np.array([i\/100 for i in range(100)])\n",
        "y = np.array([alpha * x[i] + beta + np.random.standard_normal(1) for i in range(100)])"
      ],
      "execution_count":2,
      "outputs":[
        
      ],
      "metadata":{
        
      }
    },
    {
      "cell_type":"code",
      "source":[
        "plt.plot(x)\n",
        "plt.plot(y, '.')\n",
        "plt.title('Data')"
      ],
      "execution_count":16,
      "outputs":[
        {
          "data":{
            "text\/plain":[
              "Text(0.5, 1.0, 'Data')"
            ],
            "image\/png":"[encoded data removed]"
          },
          "metadata":{
            "image\/png":{
              
            }
          },
          "output_type":"display_data"
        }
      ],
      "metadata":{
        
      }
    },
    {
      "cell_type":"code",
      "source":[
        "def loss_linear(a, x_=x, y_=y):\n",
        "    a, b = a\n",
        "    return sum([((a * x_[i] + b) - y_[i])**2 for i in range(len(x_))])\n",
        "\n",
        "def loss_rational(a, x_=x, y_=y):\n",
        "    a, b = a\n",
        "    return sum([(a \/ (1 + b * x_[i]) - y_[i])**2 for i in range(len(x_))])"
      ],
      "execution_count":4,
      "outputs":[
        
      ],
      "metadata":{
        
      }
    },
    {
      "cell_type":"markdown",
      "source":[
        "## exhaustive search"
      ],
      "attachments":{
        
      },
      "metadata":{
        
      }
    },
    {
      "cell_type":"code",
      "source":[
        "rranges = (slice(0, 1, 0.01), slice(0, 1, 0.01))\n",
        "brute_lin = optimize.brute(loss_linear, rranges, full_output=True, disp=True)"
      ],
      "execution_count":17,
      "outputs":[
        {
          "name":"stdout",
          "text":[
            "Optimization terminated successfully.\n",
            "         Current function value: 94.423449\n",
            "         Iterations: 22\n",
            "         Function evaluations: 43\n"
          ],
          "output_type":"stream"
        }
      ],
      "metadata":{
        
      }
    },
    {
      "cell_type":"code",
      "source":[
        "plt.plot(brute_lin[0][0] * x + brute_lin[0][1])\n",
        "plt.plot(y, '.')\n",
        "plt.title('Linear')"
      ],
      "execution_count":18,
      "outputs":[
        {
          "data":{
            "text\/plain":[
              "Text(0.5, 1.0, 'Linear')"
            ],
            "image\/png":"[encoded data removed]"
          },
          "metadata":{
            "image\/png":{
              
            }
          },
          "output_type":"display_data"
        }
      ],
      "metadata":{
        
      }
    },
    {
      "cell_type":"code",
      "source":[
        "rranges = (slice(0, 1, 0.01), slice(0, 1, 0.01))\n",
        "brute_rat = optimize.brute(loss_rational, rranges, full_output=True, finish=optimize.fmin, disp=True)"
      ],
      "execution_count":19,
      "outputs":[
        {
          "name":"stdout",
          "text":[
            "Optimization terminated successfully.\n",
            "         Current function value: 94.754845\n",
            "         Iterations: 46\n",
            "         Function evaluations: 89\n"
          ],
          "output_type":"stream"
        }
      ],
      "metadata":{
        
      }
    },
    {
      "cell_type":"code",
      "source":[
        "plt.plot(brute_rat[0][0] \/ (1 + brute_rat[0][1] * x))\n",
        "plt.plot(y, '.')\n",
        "plt.title('Rational')"
      ],
      "execution_count":20,
      "outputs":[
        {
          "data":{
            "text\/plain":[
              "Text(0.5, 1.0, 'Rational')"
            ],
            "image\/png":"[encoded data removed]"
          },
          "metadata":{
            "image\/png":{
              
            }
          },
          "output_type":"display_data"
        }
      ],
      "metadata":{
        
      }
    },
    {
      "cell_type":"markdown",
      "source":[
        "## Nelder-Mead"
      ],
      "attachments":{
        
      },
      "metadata":{
        
      }
    },
    {
      "cell_type":"code",
      "source":[
        "x0 = np.array([1, 1])\n",
        "linear_nelder = minimize(loss_linear, x0, method='nelder-mead', tol=0.001)"
      ],
      "execution_count":21,
      "outputs":[
        
      ],
      "metadata":{
        
      }
    },
    {
      "cell_type":"code",
      "source":[
        "linear_nelder"
      ],
      "execution_count":22,
      "outputs":[
        {
          "data":{
            "text\/plain":[
              " final_simplex: (array([[0.51283198, 0.72710758],\n",
              "       [0.51216016, 0.7273255 ],\n",
              "       [0.51348167, 0.7266697 ]]), array([94.4234499 , 94.42345207, 94.42345309]))\n",
              "           fun: 94.42344990230738\n",
              "       message: 'Optimization terminated successfully.'\n",
              "          nfev: 64\n",
              "           nit: 33\n",
              "        status: 0\n",
              "       success: True\n",
              "             x: array([0.51283198, 0.72710758])"
            ]
          },
          "metadata":{
            
          },
          "output_type":"display_data"
        }
      ],
      "metadata":{
        
      }
    },
    {
      "cell_type":"code",
      "source":[
        "plt.plot(linear_nelder.x[0] * x + linear_nelder.x[1])\n",
        "plt.plot(y, '.')\n",
        "plt.title('Linear')"
      ],
      "execution_count":23,
      "outputs":[
        {
          "data":{
            "text\/plain":[
              "Text(0.5, 1.0, 'Linear')"
            ],
            "image\/png":"[encoded data removed]"
          },
          "metadata":{
            "image\/png":{
              
            }
          },
          "output_type":"display_data"
        }
      ],
      "metadata":{
        
      }
    },
    {
      "cell_type":"code",
      "source":[
        "x0 = np.array([1, 1])\n",
        "rat_nelder = minimize(loss_rational, x0, method='nelder-mead', tol=0.001)"
      ],
      "execution_count":24,
      "outputs":[
        
      ],
      "metadata":{
        
      }
    },
    {
      "cell_type":"code",
      "source":[
        "rat_nelder"
      ],
      "execution_count":25,
      "outputs":[
        {
          "data":{
            "text\/plain":[
              " final_simplex: (array([[ 0.79624564, -0.35637927],\n",
              "       [ 0.79673103, -0.35573972],\n",
              "       [ 0.79651156, -0.35634326]]), array([94.75484739, 94.75484895, 94.75485336]))\n",
              "           fun: 94.75484738825936\n",
              "       message: 'Optimization terminated successfully.'\n",
              "          nfev: 68\n",
              "           nit: 37\n",
              "        status: 0\n",
              "       success: True\n",
              "             x: array([ 0.79624564, -0.35637927])"
            ]
          },
          "metadata":{
            
          },
          "output_type":"display_data"
        }
      ],
      "metadata":{
        
      }
    },
    {
      "cell_type":"code",
      "source":[
        "plt.plot(rat_nelder.x[0] \/ (1 + rat_nelder.x[1] * x))\n",
        "plt.plot(y, '.')\n",
        "plt.title('Rational')"
      ],
      "execution_count":26,
      "outputs":[
        {
          "data":{
            "text\/plain":[
              "Text(0.5, 1.0, 'Rational')"
            ],
            "image\/png":"[encoded data removed]"
          },
          "metadata":{
            "image\/png":{
              
            }
          },
          "output_type":"display_data"
        }
      ],
      "metadata":{
        
      }
    },
    {
      "cell_type":"markdown",
      "source":[
        "## Gauss"
      ],
      "attachments":{
        
      },
      "metadata":{
        
      }
    },
    {
      "cell_type":"code",
      "source":[
        "a0 = 1\n",
        "b0 = 1\n",
        "b1 = 1000\n",
        "iters = 0\n",
        "func = 0\n",
        "while True:\n",
        "    iters += 2\n",
        "    list_a = []\n",
        "\n",
        "    for a in range(1000):\n",
        "        func += 1\n",
        "        a = a \/ 1000\n",
        "        list_a.append(loss_linear((a, b0)))\n",
        "\n",
        "    a1 = np.argmin(list_a) \/ 1000\n",
        "\n",
        "    if abs(a0 - a1) < 0.001 and abs(b0 - b1) < 0.001:\n",
        "        break\n",
        "    a0 = a1\n",
        "\n",
        "    list_b = []\n",
        "    for b in range(1000):\n",
        "        func += 1\n",
        "        b = b \/ 1000\n",
        "        list_b.append(loss_linear((a0, b)))\n",
        "\n",
        "    b1 = np.argmin(list_b) \/ 1000\n",
        "\n",
        "    if abs(b0 - b1) < 0.001 and abs(a0 - a1) < 0.001:\n",
        "        break\n",
        "    b0 = b1"
      ],
      "execution_count":0,
      "outputs":[
        
      ],
      "metadata":{
        
      }
    },
    {
      "cell_type":"code",
      "source":[
        "plt.plot(a0 * x + b0)\n",
        "plt.plot(y, '.')\n",
        "plt.title('Linear')"
      ],
      "execution_count":28,
      "outputs":[
        {
          "data":{
            "text\/plain":[
              "Text(0.5, 1.0, 'Linear')"
            ],
            "image\/png":"[encoded data removed]"
          },
          "metadata":{
            "image\/png":{
              
            }
          },
          "output_type":"display_data"
        }
      ],
      "metadata":{
        
      }
    },
    {
      "cell_type":"code",
      "source":[
        "func, iters"
      ],
      "execution_count":6,
      "outputs":[
        {
          "data":{
            "text\/plain":[
              "(36000, 36)"
            ]
          },
          "metadata":{
            
          },
          "output_type":"display_data"
        }
      ],
      "metadata":{
        
      }
    },
    {
      "cell_type":"code",
      "source":[
        "a0 = 1\n",
        "b0 = 1\n",
        "b1 = 1000\n",
        "iters = 0\n",
        "func = 0\n",
        "while True:\n",
        "    iters += 2\n",
        "    list_a = []\n",
        "\n",
        "    for a in range(1000):\n",
        "        func += 1\n",
        "        a = a \/ 1000\n",
        "        list_a.append(loss_rational((a, b0)))\n",
        "\n",
        "    a1 = np.argmin(list_a) \/ 1000\n",
        "\n",
        "    if abs(a0 - a1) < 0.001 and abs(b0 - b1) < 0.001:\n",
        "        break\n",
        "    a0 = a1\n",
        "\n",
        "    list_b = []\n",
        "    for b in range(1000):\n",
        "        func += 1\n",
        "        b = b \/ 1000\n",
        "        list_b.append(loss_rational((a0, b)))\n",
        "\n",
        "    b1 = np.argmin(list_b) \/ 1000\n",
        "\n",
        "    if abs(b0 - b1) < 0.001 and abs(a0 - a1) < 0.001:\n",
        "        break\n",
        "    b0 = b1"
      ],
      "execution_count":34,
      "outputs":[
        
      ],
      "metadata":{
        
      }
    },
    {
      "cell_type":"code",
      "source":[
        "plt.plot(a0 \/ (1 + b0 * x))\n",
        "plt.plot(y, '.')\n",
        "plt.title('Rational')"
      ],
      "execution_count":30,
      "outputs":[
        {
          "data":{
            "text\/plain":[
              "Text(0.5, 1.0, 'Rational')"
            ],
            "image\/png":"[encoded data removed]"
          },
          "metadata":{
            "image\/png":{
              
            }
          },
          "output_type":"display_data"
        }
      ],
      "metadata":{
        
      }
    },
    {
      "cell_type":"code",
      "source":[
        "iters, func"
      ],
      "execution_count":8,
      "outputs":[
        {
          "data":{
            "text\/plain":[
              "(4, 4000)"
            ]
          },
          "metadata":{
            
          },
          "output_type":"display_data"
        }
      ],
      "metadata":{
        
      }
    },
    {
      "cell_type":"markdown",
      "source":[
        "## Comparison"
      ],
      "attachments":{
        
      },
      "metadata":{
        
      }
    },
    {
      "cell_type":"code",
      "source":[
        "plt.plot(linear_nelder.x[0] * x + linear_nelder.x[1], label='Nelder-Mead')\n",
        "plt.plot(y, '.', label='data')\n",
        "plt.plot(a0 * x + b0, label='Gauss')\n",
        "plt.plot(brute_lin[0][0] * x + brute_lin[0][1], label='Brute force')\n",
        "plt.legend()\n",
        "plt.title('Linear')"
      ],
      "execution_count":33,
      "outputs":[
        {
          "data":{
            "text\/plain":[
              "Text(0.5, 1.0, 'Linear')"
            ],
            "image\/png":"[encoded data removed]"
          },
          "metadata":{
            "image\/png":{
              
            }
          },
          "output_type":"display_data"
        }
      ],
      "metadata":{
        
      }
    },
    {
      "cell_type":"code",
      "source":[
        "plt.plot(rat_nelder.x[0] \/ (1 + rat_nelder.x[1] * x), label='Nelder-Mead')\n",
        "plt.plot(y, '.', label='data')\n",
        "plt.plot(a0 \/ (1 + b0 * x), label='Gauss')\n",
        "plt.plot(brute_rat[0][0] \/ (1 + brute_rat[0][1] * x), label='Brute force')\n",
        "plt.legend()\n",
        "plt.title('Rational')"
      ],
      "execution_count":36,
      "outputs":[
        {
          "data":{
            "text\/plain":[
              "Text(0.5, 1.0, 'Rational')"
            ],
            "image\/png":"[encoded data removed]"
          },
          "metadata":{
            "image\/png":{
              
            }
          },
          "output_type":"display_data"
        }
      ],
      "metadata":{
        
      }
    }
  ],
  "metadata":{
    
  },
  "nbformat":4,
  "nbformat_minor":0
}